{
 "cells": [
  {
   "cell_type": "code",
   "execution_count": null,
   "metadata": {},
   "outputs": [],
   "source": [
    "import scipy\n",
    "import numpy as np\n",
    "from astropy.stats import sigma_clip\n",
    "from astropy.io import fits\n",
    "import glob\n",
    "import matplotlib.pyplot as plt\n",
    "from astropy.visualization import ZScaleInterval, LinearStretch, ImageNormalize\n",
    "from photutils import CircularAperture\n",
    "from photutils import DAOStarFinder\n",
    "from astropy.io.fits import getheader\n",
    "from  astropy.io.ascii import SExtractor\n",
    "from astropy.table import Table \n",
    "from astropy.io import ascii\n",
    "import seaborn as sns\n",
    "import os\n",
    "import matplotlib"
   ]
  },
  {
   "cell_type": "code",
   "execution_count": null,
   "metadata": {},
   "outputs": [],
   "source": [
    "def poisson_noise(name,ratio = 2,exp_time = None, ps = None, ron = 3, dk = 7, sv_name = None, path = None, ret = True, save = False):\n",
    "        \"\"\"Creating image with poisson noise\n",
    "       name - path to original image, image is in e/sec\n",
    "       exp_time - exposure time of the image\n",
    "       ratio - int number, used to scale exp_time\n",
    "       ron - read out noise - from hubble handbook\n",
    "       dk - dark current - from hubble handbook\n",
    "       sv_name - save name of noisy image\n",
    "       if save = True - save noisy image\n",
    "       if ret = True - return image \"\"\"\n",
    "    \n",
    "    img_data = fits.getdata(name) #e/sec\n",
    "    img_data = np.where(img_data < 0.00000000e+00, 0.00000000e+00,img_data) #to not have minus pixels\n",
    "    width, height = img_data.shape[0:2]\n",
    "\n",
    "    img = img_data * exp_time   # e\n",
    "    \n",
    "    DN = np.random.normal(0, np.sqrt(dk*exp_time/((60*60)*ratio)), (width, height))    \n",
    "    RON = np.random.normal(0, ron, (width, height))\n",
    "    SN = np.random.poisson(np.abs(img/ratio))   # this line is different  \n",
    "    \n",
    "    noise_img = (SN + RON + DN)/(exp_time/ratio)\n",
    "    \n",
    "    noise_img = np.where(img_data == 0.00000000e+00, 0.00000000e+00, noise_img)\n",
    "    if save:\n",
    "        fits.writeto(sv_name , noise_img)\n",
    "    if ret:    \n",
    "        return noise_img"
   ]
  }
 ],
 "metadata": {
  "kernelspec": {
   "display_name": "Python 3",
   "language": "python",
   "name": "python3"
  },
  "language_info": {
   "codemirror_mode": {
    "name": "ipython",
    "version": 3
   },
   "file_extension": ".py",
   "mimetype": "text/x-python",
   "name": "python",
   "nbconvert_exporter": "python",
   "pygments_lexer": "ipython3",
   "version": "3.6.9"
  }
 },
 "nbformat": 4,
 "nbformat_minor": 2
}
